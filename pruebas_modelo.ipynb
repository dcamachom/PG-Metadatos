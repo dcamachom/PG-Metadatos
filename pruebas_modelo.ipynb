{
 "cells": [
  {
   "cell_type": "code",
   "execution_count": 2,
   "metadata": {},
   "outputs": [],
   "source": [
    "import pandas as pd\n",
    "import uuid"
   ]
  },
  {
   "cell_type": "code",
   "execution_count": 3,
   "metadata": {},
   "outputs": [
    {
     "name": "stdout",
     "output_type": "stream",
     "text": [
      "Requirement already satisfied: openpyxl in c:\\users\\d.camachom\\appdata\\local\\programs\\python\\python311\\lib\\site-packages (3.1.5)\n",
      "Requirement already satisfied: et-xmlfile in c:\\users\\d.camachom\\appdata\\local\\programs\\python\\python311\\lib\\site-packages (from openpyxl) (2.0.0)\n"
     ]
    },
    {
     "name": "stderr",
     "output_type": "stream",
     "text": [
      "\n",
      "[notice] A new release of pip available: 22.3.1 -> 25.0.1\n",
      "[notice] To update, run: python.exe -m pip install --upgrade pip\n"
     ]
    }
   ],
   "source": [
    "!pip install openpyxl"
   ]
  },
  {
   "cell_type": "code",
   "execution_count": null,
   "metadata": {},
   "outputs": [],
   "source": [
    "#Crear dimensiones base para variable a nivel sujeto\n",
    "temaInteres = pd.DataFrame(columns=['id','nombre','descripcion'])\n",
    "\n",
    "etapa= pd.DataFrame(columns=['id','numEtapa','nombreAnalisis','nombreBD','descripcion',\n",
    "                             'eventoInicial','eventoFinal'])\n",
    "\n",
    "fecha=pd.DataFrame(columns=['dia','mes','anio'])\n",
    "\n",
    "evento=pd.DataFrame(columns=['id','nombre','descripcion'])\n",
    "\n",
    "variable=pd.DataFrame(columns=['id','nombreBD','nombreAnalisis','unidades','edadCorregida','derivada',\n",
    "                               'impacto','tipoDato','tipoVariable','nivelMedicion','longitudinal',\n",
    "                               'descripcionCorta','descripcionLarga'])\n"
   ]
  },
  {
   "cell_type": "code",
   "execution_count": 5,
   "metadata": {},
   "outputs": [],
   "source": [
    "# Conseguir dataframes de diccionario\n",
    "file_dict=pd.ExcelFile('data/KMC-diccionario.xlsx')\n",
    "df_etapas=pd.read_excel(file_dict, sheet_name='ETAPAS')\n",
    "df_temas=pd.read_excel(file_dict, sheet_name='Temas de Interés')\n",
    "df_variables=pd.read_excel(file_dict, sheet_name='KMC-12mEC-DIC-VAR-version2024')"
   ]
  },
  {
   "cell_type": "code",
   "execution_count": 6,
   "metadata": {},
   "outputs": [],
   "source": [
    "#Poblar dimensión de eventos\n",
    "eventos = pd.unique(\n",
    "    pd.concat([\n",
    "        df_etapas['Evento inicial (id-var)'],\n",
    "        df_etapas['Evento-final (id-var)']\n",
    "    ])\n",
    ").tolist()\n",
    "\n",
    "ids_eventos = [str(uuid.uuid4()) for _ in range(len(eventos))]\n",
    "\n",
    "for i in range(len(eventos)):\n",
    "    evento.loc[len(evento)] = [\n",
    "        ids_eventos[i],\n",
    "        eventos[i],\n",
    "        \"\"\n",
    "    ]"
   ]
  },
  {
   "cell_type": "code",
   "execution_count": 7,
   "metadata": {},
   "outputs": [],
   "source": [
    "#Poblar dimensión de etapas - sin eventos\n",
    "def encontrar_evento(nombre):\n",
    "    fila=evento[evento['nombre']==nombre]\n",
    "    return fila['id'].values[0]\n",
    "\n",
    "ids_etapas = [str(uuid.uuid4()) for _ in range(len(df_etapas))]\n",
    "\n",
    "for index, row in df_etapas.iterrows():\n",
    "    etapa.loc[row['NUMERO ETAPA']]=[\n",
    "        ids_etapas[index],\n",
    "        row['NUMERO ETAPA'],\n",
    "        row['ID-ETAPA'].lower(),\n",
    "        row['NOMBRE CORTO'].lower(),\n",
    "        row['DESCRIPCION'].lower(),\n",
    "        encontrar_evento(row['Evento inicial (id-var)']),\n",
    "        encontrar_evento(row['Evento-final (id-var)'])\n",
    "    ]"
   ]
  },
  {
   "cell_type": "code",
   "execution_count": null,
   "metadata": {},
   "outputs": [
    {
     "data": {
      "text/html": [
       "<div>\n",
       "<style scoped>\n",
       "    .dataframe tbody tr th:only-of-type {\n",
       "        vertical-align: middle;\n",
       "    }\n",
       "\n",
       "    .dataframe tbody tr th {\n",
       "        vertical-align: top;\n",
       "    }\n",
       "\n",
       "    .dataframe thead th {\n",
       "        text-align: right;\n",
       "    }\n",
       "</style>\n",
       "<table border=\"1\" class=\"dataframe\">\n",
       "  <thead>\n",
       "    <tr style=\"text-align: right;\">\n",
       "      <th></th>\n",
       "      <th>id</th>\n",
       "      <th>nombre</th>\n",
       "      <th>descripcion</th>\n",
       "    </tr>\n",
       "  </thead>\n",
       "  <tbody>\n",
       "    <tr>\n",
       "      <th>0</th>\n",
       "      <td>2a5ab9c5-f414-46ef-9cd9-48d67214c382</td>\n",
       "      <td>CRECIMIENTO</td>\n",
       "      <td>datos de peso- talla-pc, cada vez que sea posi...</td>\n",
       "    </tr>\n",
       "    <tr>\n",
       "      <th>1</th>\n",
       "      <td>122c9370-b27f-471d-bc6a-e6361c75ed62</td>\n",
       "      <td>CONTEXTO SOCIOECONOMICO</td>\n",
       "      <td>NaN</td>\n",
       "    </tr>\n",
       "    <tr>\n",
       "      <th>2</th>\n",
       "      <td>4f600fb7-c7a7-4a6a-87bc-562d6bcb4364</td>\n",
       "      <td>DESARROLLO NEUROMOTOR</td>\n",
       "      <td>anoxia5mn</td>\n",
       "    </tr>\n",
       "    <tr>\n",
       "      <th>3</th>\n",
       "      <td>072809fa-9c51-4ee0-91df-9571b989b2ea</td>\n",
       "      <td>DESARROLLO CRECIMIENTO</td>\n",
       "      <td>NaN</td>\n",
       "    </tr>\n",
       "    <tr>\n",
       "      <th>4</th>\n",
       "      <td>41aa4de4-0151-46d1-8762-9bed55e279c9</td>\n",
       "      <td>DESARROLLO SENSORIAL</td>\n",
       "      <td>NaN</td>\n",
       "    </tr>\n",
       "    <tr>\n",
       "      <th>5</th>\n",
       "      <td>6813537b-58de-49b1-82c3-2fcf8906e4cb</td>\n",
       "      <td>NUTRICION</td>\n",
       "      <td>NaN</td>\n",
       "    </tr>\n",
       "    <tr>\n",
       "      <th>6</th>\n",
       "      <td>53f78c0e-65b6-4d11-bb0c-318489098489</td>\n",
       "      <td>APEGO(?)</td>\n",
       "      <td>NaN</td>\n",
       "    </tr>\n",
       "    <tr>\n",
       "      <th>7</th>\n",
       "      <td>7b0f3cdf-d9dc-4335-bb3e-f077f2d0f351</td>\n",
       "      <td>HOSPITALIZACIONES</td>\n",
       "      <td>NaN</td>\n",
       "    </tr>\n",
       "    <tr>\n",
       "      <th>8</th>\n",
       "      <td>c8c94fc3-c0c5-4570-a2f2-8875260e52c1</td>\n",
       "      <td>SEGUIMIENTO-VACUNAS-TAMIZ-MORT</td>\n",
       "      <td>Seguimiento en vacunas, tamizados,</td>\n",
       "    </tr>\n",
       "    <tr>\n",
       "      <th>9</th>\n",
       "      <td>621616b2-62f2-411f-9908-8f93aa7c7e38</td>\n",
       "      <td>POSICIÓN CANGURO</td>\n",
       "      <td>NaN</td>\n",
       "    </tr>\n",
       "  </tbody>\n",
       "</table>\n",
       "</div>"
      ],
      "text/plain": [
       "                                     id                          nombre  \\\n",
       "0  2a5ab9c5-f414-46ef-9cd9-48d67214c382                     CRECIMIENTO   \n",
       "1  122c9370-b27f-471d-bc6a-e6361c75ed62         CONTEXTO SOCIOECONOMICO   \n",
       "2  4f600fb7-c7a7-4a6a-87bc-562d6bcb4364           DESARROLLO NEUROMOTOR   \n",
       "3  072809fa-9c51-4ee0-91df-9571b989b2ea          DESARROLLO CRECIMIENTO   \n",
       "4  41aa4de4-0151-46d1-8762-9bed55e279c9            DESARROLLO SENSORIAL   \n",
       "5  6813537b-58de-49b1-82c3-2fcf8906e4cb                       NUTRICION   \n",
       "6  53f78c0e-65b6-4d11-bb0c-318489098489                        APEGO(?)   \n",
       "7  7b0f3cdf-d9dc-4335-bb3e-f077f2d0f351               HOSPITALIZACIONES   \n",
       "8  c8c94fc3-c0c5-4570-a2f2-8875260e52c1  SEGUIMIENTO-VACUNAS-TAMIZ-MORT   \n",
       "9  621616b2-62f2-411f-9908-8f93aa7c7e38                POSICIÓN CANGURO   \n",
       "\n",
       "                                         descripcion  \n",
       "0  datos de peso- talla-pc, cada vez que sea posi...  \n",
       "1                                                NaN  \n",
       "2                                          anoxia5mn  \n",
       "3                                                NaN  \n",
       "4                                                NaN  \n",
       "5                                                NaN  \n",
       "6                                                NaN  \n",
       "7                                                NaN  \n",
       "8                Seguimiento en vacunas, tamizados,   \n",
       "9                                                NaN  "
      ]
     },
     "execution_count": 12,
     "metadata": {},
     "output_type": "execute_result"
    }
   ],
   "source": [
    "#Poblar dimensión tema de interes\n",
    "ids_temas = [str(uuid.uuid4()) for _ in range(len(df_temas))]\n",
    "\n",
    "for index,row in df_temas.iterrows():\n",
    "    temaInteres.loc[row['Número TdI']]=[\n",
    "        ids_temas[index],\n",
    "        row['ID-TdI'],\n",
    "        row['DescripciOn']\n",
    "    ]"
   ]
  },
  {
   "cell_type": "code",
   "execution_count": null,
   "metadata": {},
   "outputs": [
    {
     "data": {
      "text/html": [
       "<div>\n",
       "<style scoped>\n",
       "    .dataframe tbody tr th:only-of-type {\n",
       "        vertical-align: middle;\n",
       "    }\n",
       "\n",
       "    .dataframe tbody tr th {\n",
       "        vertical-align: top;\n",
       "    }\n",
       "\n",
       "    .dataframe thead th {\n",
       "        text-align: right;\n",
       "    }\n",
       "</style>\n",
       "<table border=\"1\" class=\"dataframe\">\n",
       "  <thead>\n",
       "    <tr style=\"text-align: right;\">\n",
       "      <th></th>\n",
       "      <th>dia</th>\n",
       "      <th>mes</th>\n",
       "      <th>anio</th>\n",
       "    </tr>\n",
       "  </thead>\n",
       "  <tbody>\n",
       "    <tr>\n",
       "      <th>0</th>\n",
       "      <td>1</td>\n",
       "      <td>1</td>\n",
       "      <td>2025</td>\n",
       "    </tr>\n",
       "  </tbody>\n",
       "</table>\n",
       "</div>"
      ],
      "text/plain": [
       "   dia  mes  anio\n",
       "0    1    1  2025"
      ]
     },
     "execution_count": 14,
     "metadata": {},
     "output_type": "execute_result"
    }
   ],
   "source": [
    "#Poblar dimension fecha\n",
    "fecha.loc[0]=[\n",
    "    1,\n",
    "    1,\n",
    "    2025\n",
    "]"
   ]
  }
 ],
 "metadata": {
  "kernelspec": {
   "display_name": "Python 3",
   "language": "python",
   "name": "python3"
  },
  "language_info": {
   "codemirror_mode": {
    "name": "ipython",
    "version": 3
   },
   "file_extension": ".py",
   "mimetype": "text/x-python",
   "name": "python",
   "nbconvert_exporter": "python",
   "pygments_lexer": "ipython3",
   "version": "3.11.3"
  }
 },
 "nbformat": 4,
 "nbformat_minor": 2
}
